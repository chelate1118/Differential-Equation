{
 "cells": [
  {
   "cell_type": "code",
   "execution_count": 301,
   "metadata": {},
   "outputs": [],
   "source": [
    "import numpy as np\n",
    "import math"
   ]
  },
  {
   "cell_type": "markdown",
   "metadata": {},
   "source": [
    "# Input"
   ]
  },
  {
   "cell_type": "code",
   "execution_count": 302,
   "metadata": {},
   "outputs": [],
   "source": [
    "def f(x: float, y: float):  # y' = f(x, y)\n",
    "    return x*y\n",
    "\n",
    "STEP = 3\n",
    "START_X = 0\n",
    "START_Y = 1\n",
    "END_X = 2\n",
    "H = 0.2"
   ]
  },
  {
   "cell_type": "markdown",
   "metadata": {},
   "source": [
    "# Process"
   ]
  },
  {
   "cell_type": "code",
   "execution_count": 303,
   "metadata": {},
   "outputs": [],
   "source": [
    "from numpy.polynomial import Polynomial\n",
    "import matplotlib.pyplot as plt\n",
    "\n",
    "\n",
    "def plot_polynomial(a: float, b: float, coeff: list|np.ndarray):\n",
    "    polynomial = Polynomial(coeff)\n",
    "\n",
    "    x = np.linspace(a, b, 100)\n",
    "    y = [polynomial(i) for i in x]\n",
    "\n",
    "    plot(x, y)\n",
    "\n",
    "\n",
    "def plot(x: list|np.ndarray, y: list|np.ndarray):\n",
    "    __set_axis()\n",
    "    __plot(x, y)\n",
    "\n",
    "\n",
    "def __plot(x, y):\n",
    "    plt.plot(x, y)\n",
    "    plt.show()\n",
    "\n",
    "\n",
    "def __set_axis():\n",
    "    fig = plt.figure()\n",
    "    ax = fig.add_subplot(1, 1, 1)\n",
    "    ax.spines['right'].set_color('none')\n",
    "    ax.spines['top'].set_color('none')\n",
    "    ax.xaxis.set_ticks_position('bottom')\n",
    "    ax.yaxis.set_ticks_position('left')"
   ]
  },
  {
   "cell_type": "code",
   "execution_count": 304,
   "metadata": {},
   "outputs": [],
   "source": [
    "def b(s: int, j: int):\n",
    "    solution = [-i for i in range(s)]\n",
    "    solution.remove(-j)\n",
    "    integrand = np.poly1d(solution, r=True)\n",
    "    integral = np.poly1d.integ(integrand)\n",
    "\n",
    "    return pow(-1, j) / math.factorial(j) / math.factorial(s-j-1) * (integral(1) - integral(0))"
   ]
  },
  {
   "cell_type": "code",
   "execution_count": 305,
   "metadata": {},
   "outputs": [
    {
     "data": {
      "text/plain": [
       "1.9166666666666665"
      ]
     },
     "execution_count": 305,
     "metadata": {},
     "output_type": "execute_result"
    }
   ],
   "source": [
    "b(3, 0)"
   ]
  },
  {
   "cell_type": "code",
   "execution_count": 306,
   "metadata": {},
   "outputs": [],
   "source": [
    "def euler_method(x0: float, y0: float, h: float, count: int):\n",
    "    x = x0\n",
    "    y = y0\n",
    "    plot_x = [x0]\n",
    "    plot_y = [y0]\n",
    "\n",
    "    for _ in range(count):\n",
    "        x += h\n",
    "        y += f(x, y) * h\n",
    "\n",
    "        plot_x.append(x)\n",
    "        plot_y.append(y)\n",
    "    \n",
    "    return (plot_x, plot_y)"
   ]
  },
  {
   "cell_type": "code",
   "execution_count": 307,
   "metadata": {},
   "outputs": [
    {
     "name": "stdout",
     "output_type": "stream",
     "text": [
      "1.9999999999999998 6.985329275880604\n"
     ]
    }
   ],
   "source": [
    "x, y = euler_method(START_X, START_Y, H, int((END_X-START_X) / H))\n",
    "print(x.pop(), y.pop())"
   ]
  },
  {
   "cell_type": "code",
   "execution_count": 308,
   "metadata": {},
   "outputs": [],
   "source": [
    "def adams_bashforth():\n",
    "    x, y = euler_method(START_X, START_Y, H, STEP)\n",
    "    \n",
    "    while x[-1]+H < END_X:\n",
    "        inc = 0\n",
    "        for j in range(STEP):\n",
    "            inc += b(STEP, STEP-j-1)*f(x[j-STEP], y[j-STEP])\n",
    "        \n",
    "        y.append(y[-1] + H*inc)\n",
    "        x.append(x[-1] + H)\n",
    "\n",
    "    return (x, y)"
   ]
  },
  {
   "cell_type": "code",
   "execution_count": 309,
   "metadata": {},
   "outputs": [
    {
     "name": "stdout",
     "output_type": "stream",
     "text": [
      "1.9999999999999998 7.45357810883206\n"
     ]
    }
   ],
   "source": [
    "x, y = adams_bashforth()\n",
    "print(x.pop(), y.pop())"
   ]
  },
  {
   "cell_type": "markdown",
   "metadata": {},
   "source": [
    "# Output"
   ]
  },
  {
   "cell_type": "code",
   "execution_count": 310,
   "metadata": {},
   "outputs": [],
   "source": [
    "def solution(x: float):\n",
    "    return math.exp(x**2/2)"
   ]
  },
  {
   "cell_type": "code",
   "execution_count": 311,
   "metadata": {},
   "outputs": [
    {
     "name": "stdout",
     "output_type": "stream",
     "text": [
      "7.38905609893065\n"
     ]
    }
   ],
   "source": [
    "print(solution(END_X))"
   ]
  },
  {
   "cell_type": "code",
   "execution_count": 312,
   "metadata": {},
   "outputs": [
    {
     "data": {
      "image/png": "[encoded data removed]",
      "text/plain": [
       "<Figure size 640x480 with 1 Axes>"
      ]
     },
     "metadata": {},
     "output_type": "display_data"
    }
   ],
   "source": [
    "a_x, a_y = adams_bashforth()\n",
    "s_x = np.linspace(START_X, END_X, 100)\n",
    "s_y = [solution(i) for i in s_x]\n",
    "plt.plot(a_x, a_y, label=\"adams-bashforth\")\n",
    "plt.plot(s_x, s_y, label=\"solution\")\n",
    "plt.legend()\n",
    "plt.show()"
   ]
  }
 ],
 "metadata": {
  "kernelspec": {
   "display_name": "Python 3.10.4 ('Differential-Equation-pVcTkOIq')",
   "language": "python",
   "name": "python3"
  },
  "language_info": {
   "codemirror_mode": {
    "name": "ipython",
    "version": 3
   },
   "file_extension": ".py",
   "mimetype": "text/x-python",
   "name": "python",
   "nbconvert_exporter": "python",
   "pygments_lexer": "ipython3",
   "version": "3.10.4"
  },
  "orig_nbformat": 4,
  "vscode": {
   "interpreter": {
    "hash": "68d9ca2633c9b09bc3c4d94d25e5ac4484966f9fee8a184eada2006344acecf9"
   }
  }
 },
 "nbformat": 4,
 "nbformat_minor": 2
}
